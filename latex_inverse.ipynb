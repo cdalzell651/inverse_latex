{
 "cells": [
  {
   "cell_type": "code",
   "execution_count": 373,
   "id": "255e988d-4530-48ca-8cdf-dc873b0d3ff1",
   "metadata": {},
   "outputs": [],
   "source": [
    "import torch\n",
    "import numpy as np\n",
    "import pandas as pd\n",
    "import os\n",
    "import random\n",
    "from typing import Tuple\n",
    "\n",
    "from PIL import Image\n",
    "\n",
    "from torchvision.transforms import v2\n",
    "from torch.utils.data import Dataset\n",
    "\n",
    "import plotly.express as px\n",
    "import plotly.graph_objects as go"
   ]
  },
  {
   "cell_type": "code",
   "execution_count": 43,
   "id": "0a7ca0bf-01e8-47a0-8dc2-806fd42dcdfd",
   "metadata": {},
   "outputs": [
    {
     "data": {
      "text/plain": [
       "'cpu'"
      ]
     },
     "execution_count": 43,
     "metadata": {},
     "output_type": "execute_result"
    }
   ],
   "source": [
    "# Setup device-agnostic code\n",
    "device = \"cuda\" if torch.cuda.is_available() else \"cpu\"\n",
    "device"
   ]
  },
  {
   "cell_type": "code",
   "execution_count": 611,
   "id": "734f6aa9-69af-4cdc-b780-7af6f5f641e4",
   "metadata": {},
   "outputs": [],
   "source": [
    "img_size = 224"
   ]
  },
  {
   "cell_type": "code",
   "execution_count": 44,
   "id": "7a9b2d5d-d250-4b9e-846f-5efb5cd5b227",
   "metadata": {
    "scrolled": true
   },
   "outputs": [
    {
     "name": "stdout",
     "output_type": "stream",
     "text": [
      "Couldn't parse file 30_St_Mary_Axe.csv\n",
      "Couldn't parse file 3D_printing.csv\n",
      "Couldn't parse file Alan_Turing.csv\n",
      "Couldn't parse file Albert_Einstein.csv\n",
      "Couldn't parse file American_English.csv\n",
      "Couldn't parse file American_Mathematical_Society.csv\n",
      "Couldn't parse file Anarchism.csv\n",
      "Couldn't parse file Ancient_Egyptian_architecture.csv\n",
      "Couldn't parse file Anecdote.csv\n",
      "Couldn't parse file Apple.csv\n",
      "Couldn't parse file Applied_mathematics.csv\n",
      "Couldn't parse file Architect.csv\n",
      "Couldn't parse file Architecture_of_India.csv\n",
      "Couldn't parse file Aristid_Lindenmayer.csv\n",
      "Couldn't parse file Artificial_intelligence.csv\n",
      "Couldn't parse file Astronomer.csv\n",
      "Couldn't parse file Astronomy.csv\n",
      "Couldn't parse file Balance_scale.csv\n",
      "Couldn't parse file Barchan.csv\n",
      "Couldn't parse file Bell_Labs.csv\n",
      "Couldn't parse file Beno%C3%AEt_Mandelbrot.csv\n",
      "Couldn't parse file Berlin.csv\n",
      "Couldn't parse file Bletchley_Park.csv\n",
      "Couldn't parse file British_English.csv\n",
      "Couldn't parse file Building.csv\n",
      "Couldn't parse file Caspar_Netscher.csv\n",
      "Couldn't parse file Cassini-Huygens.csv\n",
      "Couldn't parse file Category_theory.csv\n",
      "Couldn't parse file Cellular_automaton.csv\n",
      "Couldn't parse file Child_prodigy.csv\n",
      "Couldn't parse file Chinese_architecture.csv\n",
      "Couldn't parse file Christian_theology.csv\n",
      "Couldn't parse file Cipher_Bureau_(Poland).csv\n",
      "Couldn't parse file Clique_problem.csv\n",
      "Couldn't parse file Coin_flipping.csv\n",
      "Couldn't parse file Combinatorics.csv\n",
      "Couldn't parse file Computational_geometry.csv\n",
      "Couldn't parse file Concrete_object.csv\n",
      "Couldn't parse file Consciousness.csv\n",
      "Couldn't parse file Convex_geometry.csv\n",
      "Couldn't parse file Conway%27s_Game_of_Life.csv\n",
      "Couldn't parse file Copley_Medal.csv\n",
      "Couldn't parse file Counting.csv\n",
      "Couldn't parse file Cryptanalysis.csv\n",
      "Couldn't parse file Cryptographer.csv\n",
      "Couldn't parse file Cryptography.csv\n",
      "Couldn't parse file Cryptologic_bomb.csv\n",
      "Couldn't parse file Cryptooology.csv\n",
      "Couldn't parse file D%27Arcy_Thompson.csv\n",
      "Couldn't parse file David_Hilbert.csv\n",
      "Couldn't parse file Decimal_point.csv\n",
      "Couldn't parse file Digital_Signal_Processing.csv\n",
      "Couldn't parse file Doctor_of_Philosophy.csv\n",
      "Couldn't parse file Domestic_terrorism_in_the_United_States.csv\n",
      "Couldn't parse file Donn_Piatt.csv\n",
      "Couldn't parse file Egyptian_pyramids.csv\n",
      "Couldn't parse file Empedocles.csv\n",
      "Couldn't parse file Engineer.csv\n",
      "Couldn't parse file Engineering.csv\n",
      "Couldn't parse file England.csv\n",
      "Couldn't parse file Erlangen.csv\n",
      "Couldn't parse file Ernst_G._Straus.csv\n",
      "Couldn't parse file Ernst_Haeckel.csv\n",
      "Couldn't parse file Fan_Chung.csv\n",
      "Couldn't parse file Felix_Klein.csv\n",
      "Couldn't parse file Fellow_of_the_Royal_Society.csv\n",
      "Couldn't parse file Fibonacci_nim.csv\n",
      "Couldn't parse file Foundations_of_mathematics.csv\n",
      "Couldn't parse file Fractal.csv\n",
      "Couldn't parse file Fractals.csv\n",
      "Couldn't parse file Franconia.csv\n",
      "Couldn't parse file French_secret_service.csv\n",
      "Couldn't parse file Fujian_province.csv\n",
      "Couldn't parse file Generating_set.csv\n",
      "Couldn't parse file Geographer.csv\n",
      "Couldn't parse file Greek_mathematics.csv\n",
      "Couldn't parse file Greek_philosophers.csv\n",
      "Couldn't parse file Habilitation.csv\n",
      "Couldn't parse file Halen.csv\n",
      "Couldn't parse file Henryk_Zygalski.csv\n",
      "Couldn't parse file Hermann_Weyl.csv\n",
      "Couldn't parse file Hindu_cosmology.csv\n",
      "Couldn't parse file Hut_8.csv\n",
      "Couldn't parse file Industrial_Society_and_Its_Future.csv\n",
      "Couldn't parse file Infinite_set.csv\n",
      "Couldn't parse file International_Mathematical_Olympiad.csv\n",
      "Couldn't parse file International_Science_Olympiad.csv\n",
      "Couldn't parse file Intuitive.csv\n",
      "Couldn't parse file Inventor.csv\n",
      "Couldn't parse file Isaac_Newton.csv\n",
      "Couldn't parse file Islamic_architecture.csv\n",
      "Couldn't parse file Islamic_geometric_patterns.csv\n",
      "Couldn't parse file Jakob_Emanuel_Handmann.csv\n",
      "Couldn't parse file James_Clerk_Maxwell.csv\n",
      "Couldn't parse file Jean_Dieudonn%C3%A9.csv\n",
      "Couldn't parse file Jerzy_R%C3%B3%C5%BCycki.csv\n",
      "Couldn't parse file Jewish_family.csv\n",
      "Couldn't parse file Johann_Baptist_Franzelin.csv\n",
      "Couldn't parse file Joseph_Plateau.csv\n",
      "Couldn't parse file Kingdom_of_Prussia.csv\n",
      "Couldn't parse file L._E._J._Brouwer.csv\n",
      "Couldn't parse file Latin_language.csv\n",
      "Couldn't parse file Leftism.csv\n",
      "Couldn't parse file Leiden.csv\n",
      "Couldn't parse file Leopold_Kronecker.csv\n",
      "Couldn't parse file Leroy_P._Steele_Prize.csv\n",
      "Couldn't parse file Life_without_Death.csv\n",
      "Couldn't parse file Lighting.csv\n",
      "Couldn't parse file Liquid_helium.csv\n",
      "Couldn't parse file List_of_mathematics_competitions.csv\n",
      "Couldn't parse file List_of_paradoxes#Mathematics.csv\n",
      "Couldn't parse file Lutheran_Christian.csv\n",
      "Couldn't parse file Mail_bomb.csv\n",
      "Couldn't parse file Main_Page.csv\n",
      "Couldn't parse file Manchester_Mark_I.csv\n",
      "Couldn't parse file Manifesto.csv\n",
      "Couldn't parse file Marine_biology.csv\n",
      "Couldn't parse file Mathematical_Association_of_America.csv\n",
      "Couldn't parse file Mathematical_object.csv\n",
      "Couldn't parse file Mathematical_olympiad.csv\n",
      "Couldn't parse file Mathematical_physics.csv\n",
      "Couldn't parse file Mathematical_puzzle.csv\n",
      "Couldn't parse file Mathematical_rigor.csv\n",
      "Couldn't parse file Mathematical_structure.csv\n",
      "Couldn't parse file Mathematician.csv\n",
      "Couldn't parse file Mathematics_and_architecture.csv\n",
      "Couldn't parse file Mathematics_education.csv\n",
      "Couldn't parse file Math_rock.csv\n",
      "Couldn't parse file Mausoleum.csv\n",
      "Couldn't parse file Max_Br%C3%BCckner.csv\n",
      "Couldn't parse file Max_Noether.csv\n",
      "Couldn't parse file Meanders.csv\n",
      "Couldn't parse file Medicine.csv\n",
      "Couldn't parse file Morphogenesis.csv\n",
      "Couldn't parse file Multilinear_algebra.csv\n",
      "Couldn't parse file Museum_Boerhaave.csv\n",
      "Couldn't parse file Music_theory.csv\n",
      "Couldn't parse file Namib_Desert.csv\n",
      "Couldn't parse file National_Academy_of_Sciences.csv\n",
      "Couldn't parse file National_Physical_Laboratory,_UK.csv\n",
      "Couldn't parse file Natural_environment.csv\n",
      "Couldn't parse file Natural_science.csv\n",
      "Couldn't parse file Nature.csv\n",
      "Couldn't parse file Neo-Scholasticism.csv\n",
      "Couldn't parse file Nobel_Prize_in_Physics.csv\n",
      "Couldn't parse file Norbert_Wiener.csv\n",
      "Couldn't parse file Old_Swiss_Confederacy.csv\n",
      "Couldn't parse file Open_problem.csv\n",
      "Couldn't parse file Opera_Omnia_Leonhard_Euler.csv\n",
      "Couldn't parse file Opticks.csv\n",
      "Couldn't parse file Order_of_the_British_Empire.csv\n",
      "Couldn't parse file Outline_of_mathematics.csv\n",
      "Couldn't parse file Pantheism.csv\n",
      "Couldn't parse file Parable.csv\n",
      "Couldn't parse file Parametric_design.csv\n",
      "Couldn't parse file Parity_of_zero.csv\n",
      "Couldn't parse file Particle_physics.csv\n",
      "Couldn't parse file Parton_model.csv\n",
      "Couldn't parse file Patterns.csv\n",
      "Couldn't parse file Patterns_in_nature.csv\n",
      "Couldn't parse file Pattern_formation.csv\n",
      "Couldn't parse file Paul_Erd%C5%91s.csv\n",
      "Couldn't parse file Paul_Gordan.csv\n",
      "Couldn't parse file Pavel_Alexandrov.csv\n",
      "Couldn't parse file Philosophy_of_mathematics.csv\n",
      "Couldn't parse file Physical_chemistry.csv\n",
      "Couldn't parse file Physical_optics.csv\n",
      "Couldn't parse file Physicist.csv\n",
      "Couldn't parse file Physics_World.csv\n",
      "Couldn't parse file Plato.csv\n",
      "Couldn't parse file Polish_General_Staff.csv\n",
      "Couldn't parse file Polish_people.csv\n",
      "Couldn't parse file Posthumous_publication.csv\n",
      "Couldn't parse file Privatdozent.csv\n",
      "Couldn't parse file Projective_geometry.csv\n",
      "Couldn't parse file Pure_mathematics.csv\n",
      "Couldn't parse file Pythagoreanism.csv\n",
      "Couldn't parse file Quarto.csv\n",
      "Couldn't parse file Ramsey_theory.csv\n",
      "Couldn't parse file Random_sequence.csv\n",
      "Couldn't parse file Riemannian_geometry.csv\n",
      "Couldn't parse file Rings_of_Saturn.csv\n",
      "Couldn't parse file Robert_Dorfman.csv\n",
      "Couldn't parse file Romania.csv\n",
      "Couldn't parse file Royal_Society.csv\n",
      "Couldn't parse file Saint_Petersburg.csv\n",
      "Couldn't parse file Scientific_revolution.csv\n",
      "Couldn't parse file Scientific_theory.csv\n",
      "Couldn't parse file Shin%27ichir%C5%8D_Tomonaga.csv\n",
      "Couldn't parse file Simple_living.csv\n",
      "Couldn't parse file Simple_polyhedron.csv\n",
      "Couldn't parse file Social_critique.csv\n",
      "Couldn't parse file Social_network.csv\n",
      "Couldn't parse file Social_sciences.csv\n",
      "Couldn't parse file Star_polyhedron.csv\n",
      "Couldn't parse file Statistics.csv\n",
      "Couldn't parse file Stellation.csv\n",
      "Couldn't parse file Stellation_diagram.csv\n",
      "Couldn't parse file Student_competition.csv\n",
      "Couldn't parse file Subatomic_particle.csv\n",
      "Couldn't parse file Superfluidity.csv\n",
      "Couldn't parse file Symmetries.csv\n",
      "Couldn't parse file Symmetry.csv\n",
      "Couldn't parse file Ted_Kaczynski.csv\n",
      "Couldn't parse file Tessellation.csv\n",
      "Couldn't parse file Tessellations.csv\n",
      "Couldn't parse file The_New_York_Times_crossword_puzzle.csv\n",
      "Couldn't parse file Titan_(moon).csv\n",
      "Couldn't parse file Topology.csv\n",
      "Couldn't parse file Treatise_on_Light.csv\n",
      "Couldn't parse file Trees.csv\n",
      "Couldn't parse file Tulou.csv\n",
      "Couldn't parse file Turing_patterns.csv\n",
      "Couldn't parse file Turing_test.csv\n",
      "Couldn't parse file University_of_California,_Berkeley.csv\n",
      "Couldn't parse file University_of_California,_San_Diego.csv\n",
      "Couldn't parse file University_of_Erlangen.csv\n",
      "Couldn't parse file University_of_G%C3%B6ttingen.csv\n",
      "Couldn't parse file Unobservable.csv\n",
      "Couldn't parse file Victoria_University_of_Manchester.csv\n",
      "Couldn't parse file Wave_theory_of_light.csv\n",
      "Couldn't parse file Wikimedia_Foundation.csv\n",
      "Couldn't parse file World_War_II.csv\n",
      "Couldn't parse file Yale_University.csv\n",
      "Couldn't parse file Yowie_(band).csv\n"
     ]
    }
   ],
   "source": [
    "csv_dir = \"latex_strings\"\n",
    "\n",
    "dfs = []\n",
    "for filename in os.listdir(csv_dir):\n",
    "     if filename[-3:] == \"csv\":\n",
    "        # with open(os.path.join(csv_dir, filename)) as fp:\n",
    "        #     nlines = sum(1 for line in fp)\n",
    "        # if nlines > 1:\n",
    "        #     print(filename)\n",
    "        try:\n",
    "            df = pd.read_csv(os.path.join(csv_dir, filename))\n",
    "            dfs.append(df)\n",
    "        except:\n",
    "            print(f\"Couldn't parse file {filename}\")"
   ]
  },
  {
   "cell_type": "code",
   "execution_count": 45,
   "id": "190d2b79-2d10-4298-8a54-9585c4714f36",
   "metadata": {},
   "outputs": [
    {
     "data": {
      "text/plain": [
       "342"
      ]
     },
     "execution_count": 45,
     "metadata": {},
     "output_type": "execute_result"
    }
   ],
   "source": [
    "len(dfs)"
   ]
  },
  {
   "cell_type": "code",
   "execution_count": 622,
   "id": "595509f9-a4ab-46f8-b144-4779994b85a1",
   "metadata": {},
   "outputs": [
    {
     "data": {
      "text/plain": [
       "21695"
      ]
     },
     "execution_count": 622,
     "metadata": {},
     "output_type": "execute_result"
    }
   ],
   "source": [
    "latex_strings = pd.concat(dfs)\n",
    "len(latex_strings)"
   ]
  },
  {
   "cell_type": "code",
   "execution_count": 55,
   "id": "076015aa-6b95-440f-a519-9a2ae7bb8ca9",
   "metadata": {},
   "outputs": [],
   "source": [
    "img_dir = \"latex_images\"\n",
    "\n",
    "def get_image(name):\n",
    "    return Image.open(os.path.join(img_dir, name + \".png\"))"
   ]
  },
  {
   "cell_type": "code",
   "execution_count": 476,
   "id": "02316daa-0825-4c9a-896b-76a3c85481a5",
   "metadata": {},
   "outputs": [],
   "source": [
    "sizes = []\n",
    "for img in latex_strings[\"name\"]:\n",
    "    i = get_image(img)\n",
    "    sizes.append(i.size)"
   ]
  },
  {
   "cell_type": "code",
   "execution_count": 618,
   "id": "fa173760-df30-49d8-8a52-f4419c160221",
   "metadata": {},
   "outputs": [],
   "source": [
    "filtered_latex_strings = latex_strings[[(s[0] < img_size and s[1] < img_size) for s in sizes]]"
   ]
  },
  {
   "cell_type": "code",
   "execution_count": 620,
   "id": "5f39d558-3418-4e18-a570-44ab65a1c1d1",
   "metadata": {
    "scrolled": true
   },
   "outputs": [
    {
     "data": {
      "text/plain": [
       "19906"
      ]
     },
     "execution_count": 620,
     "metadata": {},
     "output_type": "execute_result"
    }
   ],
   "source": [
    "len(filtered_latex_strings)"
   ]
  },
  {
   "cell_type": "raw",
   "id": "d9bd8e69-fcd2-46d9-b8ae-e5decd9b6949",
   "metadata": {},
   "source": [
    "randint = random.randint(0, len(latex_strings))\n",
    "# randint = 3766\n",
    "print(latex_strings.iloc[randint][\"latex\"][15:-1])\n",
    "img = get_image(latex_strings.iloc[randint][\"name\"])\n",
    "img"
   ]
  },
  {
   "cell_type": "code",
   "execution_count": 557,
   "id": "5b1aca0c-e40b-4c94-b0ee-2097d0e3a330",
   "metadata": {},
   "outputs": [],
   "source": [
    "def random_pad(image, final_width, final_height):\n",
    "    c, h, w = image.size()\n",
    "    hp1 = random.randint(0, (final_width - w))\n",
    "    vp1 = random.randint(0, (final_height - h))\n",
    "    hp2 = final_width - w - hp1\n",
    "    vp2 = final_height - h - vp1\n",
    "    \n",
    "    padding = (hp1, vp1, hp2, vp2)\n",
    "    \n",
    "    return v2.functional.pad(image, padding, 255, 'constant')"
   ]
  },
  {
   "cell_type": "code",
   "execution_count": 971,
   "id": "a1a762bb-05ad-4aaa-a5cd-1b213643dcfb",
   "metadata": {},
   "outputs": [],
   "source": [
    "data_transform = v2.Compose([\n",
    "    v2.ToImage(),\n",
    "    v2.Lambda(lambda x: random_pad(x, 224, 224)),\n",
    "    v2.Grayscale(),\n",
    "])"
   ]
  },
  {
   "cell_type": "code",
   "execution_count": 419,
   "id": "ca1ef2df-db9d-415b-959b-e1f1bdc7c48e",
   "metadata": {},
   "outputs": [],
   "source": [
    "class LatexImages(Dataset):\n",
    "    \n",
    "    # 2. Initialize with a targ_dir and transform (optional) parameter\n",
    "    def __init__(self, label_df, img_dir, img_transform=None, label_transform=None) -> None:\n",
    "\n",
    "        self.label_df = label_df\n",
    "        self.img_dir = img_dir\n",
    "        self.img_transform = img_transform\n",
    "        self.label_transform = label_transform\n",
    "\n",
    "    @staticmethod\n",
    "    def load_image(name: str) -> Image.Image:\n",
    "        \"Opens an image via a path and returns it.\"\n",
    "        return Image.open(name)\n",
    "    \n",
    "    def __len__(self) -> int:\n",
    "        \"Returns the total number of samples.\"\n",
    "        return len(self.label_df)\n",
    "    \n",
    "    # 6. Overwrite the __getitem__() method (required for subclasses of torch.utils.data.Dataset)\n",
    "    def __getitem__(self, index: int) -> Tuple[torch.Tensor, int]:\n",
    "        \"Returns one sample of data, data and label (X, y).\"\n",
    "        row = self.label_df.iloc[index]\n",
    "        label = row[\"latex\"]\n",
    "        img = self.load_image(os.path.join(self.img_dir, row[\"name\"] + \".png\"))\n",
    "        \n",
    "        # Transform if necessary\n",
    "        if self.img_transform:\n",
    "            img = self.img_transform(img)\n",
    "        if self.label_transform:\n",
    "            label = self.label_transform(label)\n",
    "            \n",
    "        return img, label # return data, label (X, y)"
   ]
  },
  {
   "cell_type": "code",
   "execution_count": 972,
   "id": "309342a7-ed5f-4d93-a7ca-50007ea6bb3e",
   "metadata": {},
   "outputs": [],
   "source": [
    "msk = np.random.rand(len(filtered_latex_strings)) < 0.8\n",
    "\n",
    "train_data = LatexImages(filtered_latex_strings[msk], \"latex_images\", data_transform, lambda x: x[15:-1])\n",
    "test_data = LatexImages(filtered_latex_strings[~msk], \"latex_images\", data_transform, lambda x: x[15:-1])"
   ]
  },
  {
   "cell_type": "code",
   "execution_count": 625,
   "id": "3e0016c6-6b05-4c39-82da-2e391271df50",
   "metadata": {},
   "outputs": [
    {
     "data": {
      "text/plain": [
       "(15967, 3939)"
      ]
     },
     "execution_count": 625,
     "metadata": {},
     "output_type": "execute_result"
    }
   ],
   "source": [
    "len(train_data), len(test_data)"
   ]
  },
  {
   "cell_type": "code",
   "execution_count": 973,
   "id": "fda5799a-1aae-4e9e-b7fb-c4ecc354f293",
   "metadata": {},
   "outputs": [
    {
     "name": "stdout",
     "output_type": "stream",
     "text": [
      "n\n"
     ]
    },
    {
     "data": {
      "image/jpeg": "[encoded data removed]",
      "image/png": "[encoded data removed]",
      "text/plain": [
       "<PIL.Image.Image image mode=L size=224x224>"
      ]
     },
     "execution_count": 973,
     "metadata": {},
     "output_type": "execute_result"
    }
   ],
   "source": [
    "data, label = train_data[random.randint(0, len(train_data))]\n",
    "print(label)\n",
    "v2.ToPILImage()(data)"
   ]
  },
  {
   "cell_type": "code",
   "execution_count": 988,
   "id": "ecc37d65-bbd0-4b13-aa25-a7d18199fba5",
   "metadata": {},
   "outputs": [
    {
     "name": "stdout",
     "output_type": "stream",
     "text": [
      "\\|f\\|_{p}:=\\left(\\int _{\\Omega }|f(x)|^{p}\\,{d\\mu (x)}\\right)^{\\frac {1}{p}}.\n"
     ]
    },
    {
     "data": {
      "image/jpeg": "[encoded data removed]",
      "image/png": "[encoded data removed]",
      "text/plain": [
       "<PIL.Image.Image image mode=L size=224x224>"
      ]
     },
     "execution_count": 988,
     "metadata": {},
     "output_type": "execute_result"
    }
   ],
   "source": [
    "data, label = test_data[random.randint(0, len(test_data))]\n",
    "print(label)\n",
    "v2.ToPILImage()(data)"
   ]
  }
 ],
 "metadata": {
  "kernelspec": {
   "display_name": "Python 3 (ipykernel)",
   "language": "python",
   "name": "python3"
  },
  "language_info": {
   "codemirror_mode": {
    "name": "ipython",
    "version": 3
   },
   "file_extension": ".py",
   "mimetype": "text/x-python",
   "name": "python",
   "nbconvert_exporter": "python",
   "pygments_lexer": "ipython3",
   "version": "3.11.0"
  }
 },
 "nbformat": 4,
 "nbformat_minor": 5
}
